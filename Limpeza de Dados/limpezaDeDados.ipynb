{
 "cells": [
  {
   "cell_type": "code",
   "id": "initial_id",
   "metadata": {
    "collapsed": true,
    "ExecuteTime": {
     "end_time": "2025-04-15T04:15:04.202385Z",
     "start_time": "2025-04-15T04:15:02.977426Z"
    }
   },
   "source": [
    "import kagglehub\n",
    "import pandas as pd\n",
    "import numpy as np\n",
    "\n",
    "# Baixar o dataset do Kaggle com kagglehub\n",
    "path = kagglehub.dataset_download(\"ahmedmohamed2003/cafe-sales-dirty-data-for-cleaning-training\")\n",
    "print(\"Caminho do dataset:\", path)"
   ],
   "outputs": [
    {
     "name": "stdout",
     "output_type": "stream",
     "text": [
      "Warning: Looks like you're using an outdated `kagglehub` version, please consider updating (latest version: 0.3.11)\n",
      "Caminho do dataset: C:\\Users\\lucas\\.cache\\kagglehub\\datasets\\ahmedmohamed2003\\cafe-sales-dirty-data-for-cleaning-training\\versions\\1\n"
     ]
    }
   ],
   "execution_count": 5
  },
  {
   "metadata": {
    "ExecuteTime": {
     "end_time": "2025-04-15T04:16:40.031024Z",
     "start_time": "2025-04-15T04:16:39.895737Z"
    }
   },
   "cell_type": "code",
   "source": [
    "import os\n",
    "\n",
    "# Ver os arquivos disponíveis no diretório\n",
    "os.listdir(path)\n"
   ],
   "id": "c6220b129a19789f",
   "outputs": [
    {
     "data": {
      "text/plain": [
       "['dirty_cafe_sales.csv']"
      ]
     },
     "execution_count": 6,
     "metadata": {},
     "output_type": "execute_result"
    }
   ],
   "execution_count": 6
  },
  {
   "metadata": {
    "ExecuteTime": {
     "end_time": "2025-04-15T04:17:41.197774Z",
     "start_time": "2025-04-15T04:17:40.646664Z"
    }
   },
   "cell_type": "code",
   "source": [
    "# Leitura do dataset sujo\n",
    "df = pd.read_csv(r\"C:\\Users\\lucas\\.cache\\kagglehub\\datasets\\ahmedmohamed2003\\cafe-sales-dirty-data-for-cleaning-training\\versions\\1\\dirty_cafe_sales.csv\")\n",
    "\n",
    "# Visualizar as 5 primeiras linhas\n",
    "df.head()\n"
   ],
   "id": "5fda0bc33a270caf",
   "outputs": [
    {
     "data": {
      "text/plain": [
       "  Transaction ID    Item Quantity Price Per Unit Total Spent  Payment Method  \\\n",
       "0    TXN_1961373  Coffee        2            2.0         4.0     Credit Card   \n",
       "1    TXN_4977031    Cake        4            3.0        12.0            Cash   \n",
       "2    TXN_4271903  Cookie        4            1.0       ERROR     Credit Card   \n",
       "3    TXN_7034554   Salad        2            5.0        10.0         UNKNOWN   \n",
       "4    TXN_3160411  Coffee        2            2.0         4.0  Digital Wallet   \n",
       "\n",
       "   Location Transaction Date  \n",
       "0  Takeaway       2023-09-08  \n",
       "1  In-store       2023-05-16  \n",
       "2  In-store       2023-07-19  \n",
       "3   UNKNOWN       2023-04-27  \n",
       "4  In-store       2023-06-11  "
      ],
      "text/html": [
       "<div>\n",
       "<style scoped>\n",
       "    .dataframe tbody tr th:only-of-type {\n",
       "        vertical-align: middle;\n",
       "    }\n",
       "\n",
       "    .dataframe tbody tr th {\n",
       "        vertical-align: top;\n",
       "    }\n",
       "\n",
       "    .dataframe thead th {\n",
       "        text-align: right;\n",
       "    }\n",
       "</style>\n",
       "<table border=\"1\" class=\"dataframe\">\n",
       "  <thead>\n",
       "    <tr style=\"text-align: right;\">\n",
       "      <th></th>\n",
       "      <th>Transaction ID</th>\n",
       "      <th>Item</th>\n",
       "      <th>Quantity</th>\n",
       "      <th>Price Per Unit</th>\n",
       "      <th>Total Spent</th>\n",
       "      <th>Payment Method</th>\n",
       "      <th>Location</th>\n",
       "      <th>Transaction Date</th>\n",
       "    </tr>\n",
       "  </thead>\n",
       "  <tbody>\n",
       "    <tr>\n",
       "      <th>0</th>\n",
       "      <td>TXN_1961373</td>\n",
       "      <td>Coffee</td>\n",
       "      <td>2</td>\n",
       "      <td>2.0</td>\n",
       "      <td>4.0</td>\n",
       "      <td>Credit Card</td>\n",
       "      <td>Takeaway</td>\n",
       "      <td>2023-09-08</td>\n",
       "    </tr>\n",
       "    <tr>\n",
       "      <th>1</th>\n",
       "      <td>TXN_4977031</td>\n",
       "      <td>Cake</td>\n",
       "      <td>4</td>\n",
       "      <td>3.0</td>\n",
       "      <td>12.0</td>\n",
       "      <td>Cash</td>\n",
       "      <td>In-store</td>\n",
       "      <td>2023-05-16</td>\n",
       "    </tr>\n",
       "    <tr>\n",
       "      <th>2</th>\n",
       "      <td>TXN_4271903</td>\n",
       "      <td>Cookie</td>\n",
       "      <td>4</td>\n",
       "      <td>1.0</td>\n",
       "      <td>ERROR</td>\n",
       "      <td>Credit Card</td>\n",
       "      <td>In-store</td>\n",
       "      <td>2023-07-19</td>\n",
       "    </tr>\n",
       "    <tr>\n",
       "      <th>3</th>\n",
       "      <td>TXN_7034554</td>\n",
       "      <td>Salad</td>\n",
       "      <td>2</td>\n",
       "      <td>5.0</td>\n",
       "      <td>10.0</td>\n",
       "      <td>UNKNOWN</td>\n",
       "      <td>UNKNOWN</td>\n",
       "      <td>2023-04-27</td>\n",
       "    </tr>\n",
       "    <tr>\n",
       "      <th>4</th>\n",
       "      <td>TXN_3160411</td>\n",
       "      <td>Coffee</td>\n",
       "      <td>2</td>\n",
       "      <td>2.0</td>\n",
       "      <td>4.0</td>\n",
       "      <td>Digital Wallet</td>\n",
       "      <td>In-store</td>\n",
       "      <td>2023-06-11</td>\n",
       "    </tr>\n",
       "  </tbody>\n",
       "</table>\n",
       "</div>"
      ]
     },
     "execution_count": 7,
     "metadata": {},
     "output_type": "execute_result"
    }
   ],
   "execution_count": 7
  },
  {
   "metadata": {
    "ExecuteTime": {
     "end_time": "2025-04-15T04:21:00.642927Z",
     "start_time": "2025-04-15T04:21:00.617176Z"
    }
   },
   "cell_type": "code",
   "source": [
    "# Verificar a presença de valores nulos (vazios) em cada coluna\n",
    "df.isnull().sum()\n"
   ],
   "id": "e4fab8368f121c71",
   "outputs": [
    {
     "data": {
      "text/plain": [
       "Transaction ID         0\n",
       "Item                 333\n",
       "Quantity             138\n",
       "Price Per Unit       179\n",
       "Total Spent          173\n",
       "Payment Method      2579\n",
       "Location            3265\n",
       "Transaction Date     159\n",
       "dtype: int64"
      ]
     },
     "execution_count": 8,
     "metadata": {},
     "output_type": "execute_result"
    }
   ],
   "execution_count": 8
  },
  {
   "metadata": {
    "ExecuteTime": {
     "end_time": "2025-04-15T04:27:22.590085Z",
     "start_time": "2025-04-15T04:27:22.558473Z"
    }
   },
   "cell_type": "code",
   "source": [
    "# 1. Preencher 'Item' com \"Desconhecido\"\n",
    "df[\"Item\"] = df[\"Item\"].fillna(\"Desconhecido\")\n",
    "\n",
    "# 2. Converter colunas numéricas para tipo float\n",
    "df[\"Quantity\"] = pd.to_numeric(df[\"Quantity\"], errors=\"coerce\")\n",
    "df[\"Price Per Unit\"] = pd.to_numeric(df[\"Price Per Unit\"], errors=\"coerce\")\n",
    "\n",
    "# 3. Preencher valores numéricos com a mediana da coluna\n",
    "df[\"Quantity\"] = df[\"Quantity\"].fillna(df[\"Quantity\"].median())\n",
    "df[\"Price Per Unit\"] = df[\"Price Per Unit\"].fillna(df[\"Price Per Unit\"].median())\n",
    "\n",
    "# 4. Recalcular 'Total Spent'\n",
    "df[\"Total Spent\"] = df[\"Quantity\"] * df[\"Price Per Unit\"]\n",
    "\n",
    "# 5. Preencher 'Payment Method' com \"Não informado\"\n",
    "df[\"Payment Method\"] = df[\"Payment Method\"].fillna(\"Não informado\")\n",
    "\n",
    "# 6. Remover a coluna 'Location' (se ainda existir)\n",
    "df = df.drop(columns=[\"Location\"], errors=\"ignore\")\n",
    "\n",
    "# 7. Converter 'Transaction Date' para datetime e excluir valores inválidos\n",
    "df[\"Transaction Date\"] = pd.to_datetime(df[\"Transaction Date\"], errors=\"coerce\")\n",
    "df = df.dropna(subset=[\"Transaction Date\"])\n",
    "\n",
    "\n"
   ],
   "id": "1cce4334337952ce",
   "outputs": [],
   "execution_count": 15
  },
  {
   "metadata": {
    "ExecuteTime": {
     "end_time": "2025-04-15T04:28:04.803425Z",
     "start_time": "2025-04-15T04:28:04.696439Z"
    }
   },
   "cell_type": "code",
   "source": [
    "# Verificar novamente se ainda restam valores nulos\n",
    "print(\"Valores ausentes por coluna:\")\n",
    "print(df.isnull().sum())\n",
    "\n",
    "# Visualizar a estrutura do DataFrame após a limpeza\n",
    "print(\"\\nInformações gerais do DataFrame:\")\n",
    "print(df.info())\n",
    "\n",
    "# Visualizar resumo estatístico das colunas numéricas\n",
    "print(\"\\nResumo estatístico das colunas numéricas:\")\n",
    "print(df.describe())\n"
   ],
   "id": "44cbd8d10ecb1c14",
   "outputs": [
    {
     "name": "stdout",
     "output_type": "stream",
     "text": [
      "Valores ausentes por coluna:\n",
      "Transaction ID      0\n",
      "Item                0\n",
      "Quantity            0\n",
      "Price Per Unit      0\n",
      "Total Spent         0\n",
      "Payment Method      0\n",
      "Transaction Date    0\n",
      "dtype: int64\n",
      "\n",
      "Informações gerais do DataFrame:\n",
      "<class 'pandas.core.frame.DataFrame'>\n",
      "Index: 9540 entries, 0 to 9999\n",
      "Data columns (total 7 columns):\n",
      " #   Column            Non-Null Count  Dtype         \n",
      "---  ------            --------------  -----         \n",
      " 0   Transaction ID    9540 non-null   object        \n",
      " 1   Item              9540 non-null   object        \n",
      " 2   Quantity          9540 non-null   float64       \n",
      " 3   Price Per Unit    9540 non-null   float64       \n",
      " 4   Total Spent       9540 non-null   float64       \n",
      " 5   Payment Method    9540 non-null   object        \n",
      " 6   Transaction Date  9540 non-null   datetime64[ns]\n",
      "dtypes: datetime64[ns](1), float64(3), object(3)\n",
      "memory usage: 596.2+ KB\n",
      "None\n",
      "\n",
      "Resumo estatístico das colunas numéricas:\n",
      "          Quantity  Price Per Unit  Total Spent               Transaction Date\n",
      "count  9540.000000     9540.000000  9540.000000                           9540\n",
      "mean      3.024109        2.952673     8.935692  2023-07-01 23:00:31.698113536\n",
      "min       1.000000        1.000000     1.000000            2023-01-01 00:00:00\n",
      "25%       2.000000        2.000000     4.000000            2023-04-01 00:00:00\n",
      "50%       3.000000        3.000000     8.000000            2023-07-02 00:00:00\n",
      "75%       4.000000        4.000000    12.000000            2023-10-02 00:00:00\n",
      "max       5.000000        5.000000    25.000000            2023-12-31 00:00:00\n",
      "std       1.384186        1.243449     5.827677                            NaN\n"
     ]
    }
   ],
   "execution_count": 16
  },
  {
   "metadata": {
    "ExecuteTime": {
     "end_time": "2025-04-15T04:36:06.258085Z",
     "start_time": "2025-04-15T04:36:06.007877Z"
    }
   },
   "cell_type": "code",
   "source": [
    "# Exportar o DataFrame limpo para um novo arquivo CSV\n",
    "df.to_csv(\"cafe_sales_limpo.csv\", index=False)\n",
    "\n",
    "# Confirmação\n",
    "print(\"Arquivo 'cafe_sales_limpo.csv' exportado com sucesso.\")\n"
   ],
   "id": "3c9299b0ab4067ca",
   "outputs": [
    {
     "name": "stdout",
     "output_type": "stream",
     "text": [
      "Arquivo 'cafe_sales_limpo.csv' exportado com sucesso.\n"
     ]
    }
   ],
   "execution_count": 17
  }
 ],
 "metadata": {
  "kernelspec": {
   "display_name": "Python 3",
   "language": "python",
   "name": "python3"
  },
  "language_info": {
   "codemirror_mode": {
    "name": "ipython",
    "version": 2
   },
   "file_extension": ".py",
   "mimetype": "text/x-python",
   "name": "python",
   "nbconvert_exporter": "python",
   "pygments_lexer": "ipython2",
   "version": "2.7.6"
  }
 },
 "nbformat": 4,
 "nbformat_minor": 5
}
